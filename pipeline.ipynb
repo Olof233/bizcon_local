{
 "cells": [
  {
   "cell_type": "code",
   "execution_count": 1,
   "id": "79e71040",
   "metadata": {},
   "outputs": [
    {
     "name": "stderr",
     "output_type": "stream",
     "text": [
      "D:\\miniconda\\envs\\bizcon\\Lib\\site-packages\\tqdm\\auto.py:21: TqdmWarning: IProgress not found. Please update jupyter and ipywidgets. See https://ipywidgets.readthedocs.io/en/stable/user_install.html\n",
      "  from .autonotebook import tqdm as notebook_tqdm\n"
     ]
    }
   ],
   "source": [
    "#!/usr/bin/env python3\n",
    "\"\"\"\n",
    "Main entry point for running bizCon benchmarks.\n",
    "\"\"\"\n",
    "\n",
    "import os\n",
    "import sys\n",
    "import argparse\n",
    "import yaml\n",
    "import json\n",
    "import datetime\n",
    "from pathlib import Path\n",
    "import sys\n",
    "\n",
    "current_path = sys.argv[0]\n",
    "\n",
    "# Add parent directory to path for importing\n",
    "sys.path.insert(0, str(Path(current_path).resolve().parent))\n",
    "\n",
    "# Import our modules\n",
    "from models import get_model_client, list_supported_models\n",
    "from scenarios import load_scenarios, list_available_scenarios\n",
    "from evaluators import get_all_evaluators\n",
    "from tools import get_default_tools\n",
    "from core.pipeline import EvaluationPipeline\n",
    "from transformers import AutoModelForCausalLM, AutoTokenizer"
   ]
  },
  {
   "cell_type": "code",
   "execution_count": 2,
   "id": "4f50797c",
   "metadata": {},
   "outputs": [],
   "source": [
    "def load_config(config_path):\n",
    "    \"\"\"Load configuration from YAML file.\"\"\"\n",
    "    with open(config_path, 'r') as f:\n",
    "        return yaml.safe_load(f)"
   ]
  },
  {
   "cell_type": "code",
   "execution_count": 3,
   "id": "22b2c3d4",
   "metadata": {},
   "outputs": [],
   "source": [
    "def load_scenarios_by_config(config, scenario_ids=None):\n",
    "    \"\"\"\n",
    "    Load scenarios based on configuration and optional specific IDs.\n",
    "    \n",
    "    Args:\n",
    "        config: Configuration dictionary\n",
    "        scenario_ids: Optional list of specific scenario IDs to load\n",
    "        \n",
    "    Returns:\n",
    "        List of scenario instances\n",
    "    \"\"\"\n",
    "    if scenario_ids:\n",
    "        # Load specific scenarios by ID\n",
    "        return load_scenarios(scenario_ids)\n",
    "    \n",
    "    # Check for scenarios in config\n",
    "    config_scenarios = config.get('evaluation', {}).get('scenarios', [])\n",
    "    if config_scenarios:\n",
    "        return load_scenarios(config_scenarios)\n",
    "    \n",
    "    # Check for scenario categories in config\n",
    "    scenario_categories = config.get('evaluation', {}).get('scenario_categories', [])\n",
    "    if scenario_categories:\n",
    "        # Get all available scenarios\n",
    "        available_scenarios = list_available_scenarios()\n",
    "        scenario_ids = []\n",
    "        \n",
    "        for scenario_id, metadata in available_scenarios.items():\n",
    "            category = scenario_id.split('_')[0]\n",
    "            if category in scenario_categories:\n",
    "                scenario_ids.append(scenario_id)\n",
    "        \n",
    "        return load_scenarios(scenario_ids)\n",
    "    \n",
    "    # Default to all scenarios\n",
    "    return load_scenarios(list(list_available_scenarios().keys()))"
   ]
  },
  {
   "cell_type": "code",
   "execution_count": 4,
   "id": "63c327d9",
   "metadata": {},
   "outputs": [],
   "source": [
    "def load_models_from_config(config):\n",
    "    \"\"\"\n",
    "    Load model clients from configuration.\n",
    "    \n",
    "    Args:\n",
    "        config: Dictionary with model configurations\n",
    "        \n",
    "    Returns:\n",
    "        List of model client instances\n",
    "    \"\"\"\n",
    "    models = []\n",
    "    for model_config in config.get('models', []):\n",
    "        provider = model_config.get('provider')\n",
    "        model_name = model_config.get('name')\n",
    "        \n",
    "        # Get API key from environment or config\n",
    "        api_key = os.environ.get(f\"{provider.upper()}_API_KEY\", model_config.get('api_key'))\n",
    "        if not api_key:\n",
    "            api_key = True\n",
    "        \n",
    "        if api_key:\n",
    "        # Create model client\n",
    "            model = get_model_client(\n",
    "                provider=provider,\n",
    "                model_name=model_name,\n",
    "                api_key=api_key,\n",
    "                temperature=model_config.get('temperature', 0.7),\n",
    "                max_tokens=model_config.get('max_tokens', 1024),\n",
    "                endpoint=model_config.get('azure_endpoint'),\n",
    "                api_version=model_config.get('api_version'),\n",
    "                **(model_config.get('parameters', {}))\n",
    "            )\n",
    "            models.append(model)\n",
    "            print(f\"Initialized model: {model}\")\n",
    "    \n",
    "    return models"
   ]
  },
  {
   "cell_type": "code",
   "execution_count": 5,
   "id": "1d6f58a8",
   "metadata": {},
   "outputs": [],
   "source": [
    "def run_benchmark(config_path, output_dir, scenario_ids=None, parallel=False, verbose=False):\n",
    "    \"\"\"\n",
    "    Run benchmark evaluation.\n",
    "    \n",
    "    Args:\n",
    "        config_path: Path to configuration file\n",
    "        output_dir: Directory to save output\n",
    "        scenario_ids: Optional list of scenario IDs to run\n",
    "        parallel: Whether to run evaluations in parallel\n",
    "        verbose: Whether to display detailed progress\n",
    "    \"\"\"\n",
    "    # Load configuration\n",
    "    config = load_config(config_path)\n",
    "    \n",
    "    # Load models\n",
    "    models = load_models_from_config(config)\n",
    "    if not models:\n",
    "        print(\"Error: No models loaded. Check your API keys and configuration.\")\n",
    "        return\n",
    "    \n",
    "    # Load scenarios\n",
    "    scenarios = load_scenarios_by_config(config, scenario_ids)\n",
    "    if not scenarios:\n",
    "        print(\"Error: No scenarios loaded. Check your scenario IDs or configuration.\")\n",
    "        return\n",
    "    \n",
    "    print(f\"Loaded {len(scenarios)} scenarios for evaluation\")\n",
    "    \n",
    "    # Load evaluators with weights from config\n",
    "    evaluator_weights = config.get('evaluation', {}).get('evaluator_weights', {})\n",
    "    evaluators = get_all_evaluators(weights=evaluator_weights)\n",
    "    \n",
    "    # Load tools with error rates from config\n",
    "    tool_error_rates = config.get('evaluation', {}).get('tool_error_rates', {})\n",
    "    tools = get_default_tools()\n",
    "    for tool_id, tool in tools.items():\n",
    "        if tool_id in tool_error_rates:\n",
    "            tool.error_rate = tool_error_rates[tool_id]\n",
    "    \n",
    "    # Get number of runs from config\n",
    "    num_runs = config.get('evaluation', {}).get('num_runs', 1)\n",
    "    \n",
    "    # Set up pipeline\n",
    "    pipeline = EvaluationPipeline(\n",
    "        models=models,\n",
    "        scenarios=scenarios,\n",
    "        evaluators=evaluators,\n",
    "        tools=tools,\n",
    "        num_runs=num_runs,\n",
    "        parallel=parallel,\n",
    "        verbose=verbose\n",
    "    )\n",
    "    \n",
    "    # Run evaluation\n",
    "    print(f\"Running benchmark with {len(models)} models on {len(scenarios)} scenarios...\")\n",
    "    results = pipeline.run()\n",
    "    \n",
    "    # Create timestamped output directory\n",
    "    timestamp = datetime.datetime.now().strftime(\"%Y%m%d_%H%M%S\")\n",
    "    result_dir = os.path.join(output_dir, f\"benchmark_{timestamp}\")\n",
    "    os.makedirs(result_dir, exist_ok=True)\n",
    "    \n",
    "    # Save raw results\n",
    "    results_file = os.path.join(result_dir, \"results.json\")\n",
    "    with open(results_file, 'w') as f:\n",
    "        json.dump(results, f, indent=2)\n",
    "    \n",
    "    print(f\"Results saved to {results_file}\")\n",
    "    \n",
    "    # Generate report\n",
    "    pipeline.generate_report(result_dir)\n",
    "    \n",
    "    print(f\"Report generated in {result_dir}\")\n",
    "    \n",
    "    # Print summary\n",
    "    print(\"\\nSummary of Results:\")\n",
    "    for model_id, score in results[\"summary\"][\"overall_scores\"].items():\n",
    "        print(f\"  {model_id}: {score:.2f}\")\n",
    "    \n",
    "    return results"
   ]
  },
  {
   "cell_type": "code",
   "execution_count": 6,
   "id": "c3ea5e0b",
   "metadata": {},
   "outputs": [],
   "source": [
    "import copy\n",
    "\n",
    "def remove_required_from_properties(tool_definitions):\n",
    "    new_tool_definitions = copy.deepcopy(tool_definitions)\n",
    "    for tool in new_tool_definitions:\n",
    "        properties = tool.get('function', {}).get('parameters', {}).get('properties', {})\n",
    "        for prop_name, prop in properties.items():\n",
    "            if 'required' in prop:\n",
    "                del prop['required']\n",
    "    return new_tool_definitions"
   ]
  },
  {
   "cell_type": "code",
   "execution_count": 7,
   "id": "5d3c0696",
   "metadata": {},
   "outputs": [
    {
     "name": "stdout",
     "output_type": "stream",
     "text": [
      "Initialized model: AzureClient(gpt-4o-mini-1)\n"
     ]
    }
   ],
   "source": [
    "config = load_config(\"config/models.yaml\")\n",
    "models = load_models_from_config(config)\n",
    "scenarios = load_scenarios_by_config(config)[0:1]\n",
    "tools = get_default_tools()\n",
    "\n",
    "\n",
    "tool_definitions = []\n",
    "for tool_id in scenarios[0].tools_required:\n",
    "    if tool_id in tools:\n",
    "        tool_definitions.append(tools[tool_id].get_definition())\n",
    "tool_definitions = remove_required_from_properties(tool_definitions)\n",
    "\n",
    "\n",
    "conversation_history = [scenarios[0].get_initial_message()]\n",
    "response = models[0].generate_response(\n",
    "    messages=conversation_history,\n",
    "    tools=tool_definitions if tool_definitions else None\n",
    ")"
   ]
  },
  {
   "cell_type": "code",
   "execution_count": 8,
   "id": "60134b37",
   "metadata": {},
   "outputs": [
    {
     "data": {
      "text/plain": [
       "{'content': '',\n",
       " 'tool_calls': [{'id': 'call_JdUAcvUVHheuft94iK05XTfK',\n",
       "   'type': 'function',\n",
       "   'function': {'name': 'product_catalog',\n",
       "    'arguments': '{\"product_category\":\"data_analytics\",\"industry\":\"financial_services\"}'}}]}"
      ]
     },
     "execution_count": 8,
     "metadata": {},
     "output_type": "execute_result"
    }
   ],
   "source": [
    "response"
   ]
  },
  {
   "cell_type": "code",
   "execution_count": 9,
   "id": "89ca61a3",
   "metadata": {},
   "outputs": [],
   "source": [
    "conversation_history.append({\n",
    "    \"role\": \"assistant\",\n",
    "    \"content\": response.get(\"content\", \"\"),\n",
    "    **({} if \"tool_calls\" not in response else {\"tool_calls\": response[\"tool_calls\"]})\n",
    "})"
   ]
  },
  {
   "cell_type": "code",
   "execution_count": 10,
   "id": "28671227",
   "metadata": {},
   "outputs": [],
   "source": [
    "def _process_tool_calls(tool_calls):\n",
    "    \"\"\"\n",
    "    Process tool calls from the model response.\n",
    "    \n",
    "    Args:\n",
    "        tool_calls: List of tool calls from the model\n",
    "        \n",
    "    Returns:\n",
    "        List of processed tool calls with results\n",
    "    \"\"\"\n",
    "    processed_calls = []\n",
    "    tools = get_default_tools()\n",
    "    \n",
    "    for call in tool_calls:\n",
    "        tool_id = call.get(\"function\", {}).get(\"name\")\n",
    "        parameters = json.loads(call.get(\"function\", {}).get(\"arguments\", \"{}\"))\n",
    "        \n",
    "        # Find the tool\n",
    "        if tool_id in tools:\n",
    "            # Execute the tool\n",
    "            result = tools[tool_id].call(parameters)\n",
    "            \n",
    "            # Add to processed calls\n",
    "            processed_calls.append({\n",
    "                \"tool_id\": tool_id,\n",
    "                \"parameters\": parameters,\n",
    "                \"result\": result\n",
    "            })\n",
    "            \n",
    "            # Add tool result to conversation history\n",
    "            conversation_history.append({\n",
    "                \"role\": \"tool\",\n",
    "                \"tool_call_id\": call.get(\"id\", \"\"),\n",
    "                \"name\": tool_id,\n",
    "                \"content\": json.dumps(result)\n",
    "            })\n",
    "        else:\n",
    "            # Tool not found\n",
    "            error_result = {\n",
    "                \"error\": \"ToolNotFound\",\n",
    "                \"message\": f\"Tool '{tool_id}' is not available\",\n",
    "                \"status\": \"error\"\n",
    "            }\n",
    "            \n",
    "            processed_calls.append({\n",
    "                \"tool_id\": tool_id,\n",
    "                \"parameters\": parameters,\n",
    "                \"result\": error_result\n",
    "            })\n",
    "            \n",
    "            # Add error to conversation history\n",
    "            conversation_history.append({\n",
    "                \"role\": \"tool\",\n",
    "                \"tool_call_id\": call.get(\"id\", \"\"),\n",
    "                \"name\": tool_id,\n",
    "                \"content\": json.dumps(error_result)\n",
    "            })\n",
    "    \n",
    "    return processed_calls"
   ]
  },
  {
   "cell_type": "code",
   "execution_count": 11,
   "id": "9123a8bc",
   "metadata": {},
   "outputs": [],
   "source": [
    "tool_calls = []\n",
    "tool_calls_history=[]\n",
    "if \"tool_calls\" in response:\n",
    "    tool_calls = _process_tool_calls(response[\"tool_calls\"])\n",
    "    tool_calls_history.append(tool_calls)"
   ]
  },
  {
   "cell_type": "code",
   "execution_count": 12,
   "id": "85adf0fd",
   "metadata": {},
   "outputs": [
    {
     "data": {
      "text/plain": [
       "[{'role': 'user',\n",
       "  'content': \"Hi, I'm looking for information about your enterprise data analytics platform. We're a mid-sized financial services company with about 500 employees. Can you tell me about the key features and how it might help us analyze customer transaction data?\"},\n",
       " {'role': 'assistant',\n",
       "  'content': '',\n",
       "  'tool_calls': [{'id': 'call_JdUAcvUVHheuft94iK05XTfK',\n",
       "    'type': 'function',\n",
       "    'function': {'name': 'product_catalog',\n",
       "     'arguments': '{\"product_category\":\"data_analytics\",\"industry\":\"financial_services\"}'}}]},\n",
       " {'role': 'tool',\n",
       "  'tool_call_id': 'call_JdUAcvUVHheuft94iK05XTfK',\n",
       "  'name': 'product_catalog',\n",
       "  'content': '{\"result\": {\"product_id\": \"data_analytics_enterprise\", \"name\": \"DataInsight Enterprise\", \"category\": \"data_analytics\", \"description\": \"Enterprise-grade data analytics platform for large organizations with advanced security and compliance features.\", \"key_features\": [\"Real-time data processing\", \"Advanced visualization tools\", \"Machine learning capabilities\", \"Role-based access controls\", \"Customizable dashboards\", \"Automated reporting\", \"Data integration with 200+ sources\", \"Advanced security features\", \"Compliance monitoring\"], \"benefits\": [\"Increase operational efficiency\", \"Make data-driven decisions faster\", \"Identify business opportunities\", \"Reduce security risks\", \"Ensure regulatory compliance\"], \"pricing\": {\"base_price\": 1000, \"billing_cycle\": \"monthly\", \"minimum_commitment\": \"12 months\", \"tiers\": [{\"name\": \"Standard\", \"price\": 1000, \"users\": 10, \"storage\": \"500GB\"}, {\"name\": \"Professional\", \"price\": 2500, \"users\": 25, \"storage\": \"2TB\"}, {\"name\": \"Enterprise\", \"price\": 5000, \"users\": \"Unlimited\", \"storage\": \"10TB\"}], \"add_ons\": [{\"name\": \"Additional User Licenses\", \"price\": 100, \"unit\": \"per user/month\"}, {\"name\": \"Additional Storage\", \"price\": 50, \"unit\": \"per 100GB/month\"}]}, \"industries\": [\"healthcare\", \"finance\", \"retail\", \"manufacturing\", \"technology\", \"financial_services\"], \"implementation_time\": \"3-4 weeks\", \"support_options\": [\"24/7 priority support\", \"Dedicated account manager\", \"Implementation consulting\", \"Custom training packages\"]}, \"status\": \"success\"}'}]"
      ]
     },
     "execution_count": 12,
     "metadata": {},
     "output_type": "execute_result"
    }
   ],
   "source": [
    "conversation_history"
   ]
  },
  {
   "cell_type": "code",
   "execution_count": 13,
   "id": "7e5d5518",
   "metadata": {},
   "outputs": [],
   "source": [
    "response = models[0].generate_response(messages=conversation_history)"
   ]
  },
  {
   "cell_type": "code",
   "execution_count": 14,
   "id": "f2a7acea",
   "metadata": {},
   "outputs": [
    {
     "data": {
      "text/plain": [
       "{'content': 'For your mid-sized financial services company, I recommend considering **DataInsight Enterprise**, a robust enterprise-grade data analytics platform tailored for organizations like yours. Here are some key features and benefits that can help you analyze customer transaction data effectively:\\n\\n### Key Features:\\n1. **Real-time Data Processing**: Access and analyze customer transaction data as it happens, allowing for timely decision-making.\\n2. **Advanced Visualization Tools**: Create intuitive and interactive dashboards that help visualize trends and patterns in transaction data.\\n3. **Machine Learning Capabilities**: Utilize advanced algorithms to predict customer behaviors and identify potential opportunities for service improvements.\\n4. **Role-Based Access Controls**: Ensure that sensitive data is only accessible to authorized personnel, enhancing security.\\n5. **Customizable Dashboards**: Tailor dashboards to the specific needs of different teams within your organization.\\n6. **Automated Reporting**: Generate reports automatically to save time and ensure you always have up-to-date insights.\\n7. **Data Integration with 200+ Sources**: Seamlessly connect with various data sources to aggregate and analyze all relevant customer transaction data.\\n8. **Advanced Security Features**: Protect sensitive financial data with enterprise-level security measures.\\n9. **Compliance Monitoring**: Stay compliant with financial regulations by monitoring data usage and access.\\n\\n### Benefits:\\n- **Increase Operational Efficiency**: Streamline processes and reduce the time spent on manual data handling.\\n- **Make Data-Driven Decisions Faster**: Leverage real-time insights to respond promptly to market changes.\\n- **Identify Business Opportunities**: Analyze trends to spot new opportunities for growth or improvement in services.\\n- **Reduce Security Risks**: Implement strong security protocols to protect customer data and comply with regulations.\\n- **Ensure Regulatory Compliance**: Maintain compliance with industry regulations through ongoing monitoring and reporting features.\\n\\n### Pricing:\\n- **Standard Tier**: $1,000/month for up to 10 users and 500GB of storage.\\n- **Professional Tier**: $2,500/month for up to 25 users and 2TB of storage.\\n- **Enterprise Tier**: $5,000/month for unlimited users and 10TB of storage.\\n- **Add-Ons**: Additional user licenses at $100/user/month and extra storage at $50 per 100GB/month.\\n\\n### Implementation and Support:\\n- **Implementation Time**: Approximately 3-4 weeks to get everything set up.\\n- **Support Options**: Includes 24/7 priority support, a dedicated account manager, implementation consulting, and custom training packages.\\n\\n### Conclusion:\\nBy leveraging **DataInsight Enterprise**, your financial services company can gain valuable insights into customer transaction data, enhance decision-making processes, and improve overall operational efficiency. If you would like more information or to schedule a demo, please let me know!'}"
      ]
     },
     "execution_count": 14,
     "metadata": {},
     "output_type": "execute_result"
    }
   ],
   "source": [
    "response"
   ]
  }
 ],
 "metadata": {
  "kernelspec": {
   "display_name": "bizcon",
   "language": "python",
   "name": "python3"
  },
  "language_info": {
   "codemirror_mode": {
    "name": "ipython",
    "version": 3
   },
   "file_extension": ".py",
   "mimetype": "text/x-python",
   "name": "python",
   "nbconvert_exporter": "python",
   "pygments_lexer": "ipython3",
   "version": "3.11.13"
  }
 },
 "nbformat": 4,
 "nbformat_minor": 5
}
